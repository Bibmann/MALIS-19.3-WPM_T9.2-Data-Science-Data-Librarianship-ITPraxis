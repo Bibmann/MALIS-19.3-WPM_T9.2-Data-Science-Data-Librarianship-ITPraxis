{
 "cells": [
  {
   "cell_type": "markdown",
   "metadata": {},
   "source": [
    "# Datenset der Seattle Library Inventory\n",
    "In diesem Jupyter Notebook sollen die Inventory Daten aus dem Jahr 2018 der Bibliothek betrachtet werden. Dabei werden folgende Fragen bearbeitet und die Ergebnisse Präsentiert:\n",
    "\n",
    "-Wie verteilt sich der Bestand auf die entsprechenden Standorte \n",
    "- \n",
    "\n",
    "\n",
    "Die Daten werden dabei über einen Befehl von der Seite der data.seattle.gov heruntergeladen und in einer csv Datei lokal auf dem Computer gespeichert der das Jupyter Notebook ausführt."
   ]
  },
  {
   "cell_type": "code",
   "execution_count": 1,
   "metadata": {},
   "outputs": [],
   "source": [
    "# Zunächst werden zusätzliche Bibliotheken importiert um den Umfang der Python Befehle zu erweitern:\n",
    "import urllib.request\n",
    "import pandas as pd\n",
    "import matplotlib.pyplot as plt"
   ]
  },
  {
   "cell_type": "code",
   "execution_count": 4,
   "metadata": {},
   "outputs": [],
   "source": [
    "# Variabeln für den Download und speichern der Daten\n",
    "url = \"https://data.seattle.gov/resource/6vkj-f5xf.csv?$limit=2665099\"\n",
    "inventory_file = \"inventorySL2018.csv\""
   ]
  },
  {
   "cell_type": "code",
   "execution_count": 5,
   "metadata": {},
   "outputs": [
    {
     "data": {
      "text/plain": [
       "('inventorySL2018.csv', <http.client.HTTPMessage at 0x2308d0a5a08>)"
      ]
     },
     "execution_count": 5,
     "metadata": {},
     "output_type": "execute_result"
    }
   ],
   "source": [
    "# Download der Daten, dafür wird die importierte Bibliothek urllib.request benutzt:\n",
    "urllib.request.urlretrieve(url, inventory_file)"
   ]
  },
  {
   "cell_type": "code",
   "execution_count": 6,
   "metadata": {},
   "outputs": [],
   "source": [
    "# Variable für das lesen der co_file mit hilfe der Panda Bibliothek:\n",
    "inventory = pd.read_csv(inventory_file)"
   ]
  },
  {
   "cell_type": "code",
   "execution_count": 7,
   "metadata": {},
   "outputs": [
    {
     "data": {
      "text/html": [
       "<div>\n",
       "<style scoped>\n",
       "    .dataframe tbody tr th:only-of-type {\n",
       "        vertical-align: middle;\n",
       "    }\n",
       "\n",
       "    .dataframe tbody tr th {\n",
       "        vertical-align: top;\n",
       "    }\n",
       "\n",
       "    .dataframe thead th {\n",
       "        text-align: right;\n",
       "    }\n",
       "</style>\n",
       "<table border=\"1\" class=\"dataframe\">\n",
       "  <thead>\n",
       "    <tr style=\"text-align: right;\">\n",
       "      <th></th>\n",
       "      <th>bibnum</th>\n",
       "      <th>title</th>\n",
       "      <th>author</th>\n",
       "      <th>isbn</th>\n",
       "      <th>publicationyear</th>\n",
       "      <th>publisher</th>\n",
       "      <th>subjects</th>\n",
       "      <th>itemtype</th>\n",
       "      <th>itemcollection</th>\n",
       "      <th>floatingitem</th>\n",
       "      <th>itemlocation</th>\n",
       "      <th>reportdate</th>\n",
       "      <th>itemcount</th>\n",
       "    </tr>\n",
       "  </thead>\n",
       "  <tbody>\n",
       "    <tr>\n",
       "      <th>0</th>\n",
       "      <td>3011076</td>\n",
       "      <td>A tale of two friends / adapted by Ellie O'Rya...</td>\n",
       "      <td>O'Ryan, Ellie</td>\n",
       "      <td>1481425730, 1481425749, 9781481425735, 9781481...</td>\n",
       "      <td>2014.</td>\n",
       "      <td>Simon Spotlight,</td>\n",
       "      <td>Musicians Fiction, Bullfighters Fiction, Best ...</td>\n",
       "      <td>jcbk</td>\n",
       "      <td>ncrdr</td>\n",
       "      <td>Floating</td>\n",
       "      <td>qna</td>\n",
       "      <td>2017-09-01T00:00:00.000</td>\n",
       "      <td>1</td>\n",
       "    </tr>\n",
       "    <tr>\n",
       "      <th>1</th>\n",
       "      <td>2248846</td>\n",
       "      <td>Naruto. Vol. 1, Uzumaki Naruto / story and art...</td>\n",
       "      <td>Kishimoto, Masashi, 1974-</td>\n",
       "      <td>1569319006</td>\n",
       "      <td>2003, c1999.</td>\n",
       "      <td>Viz,</td>\n",
       "      <td>Ninja Japan Comic books strips etc, Comic book...</td>\n",
       "      <td>acbk</td>\n",
       "      <td>nycomic</td>\n",
       "      <td>NaN</td>\n",
       "      <td>lcy</td>\n",
       "      <td>2017-09-01T00:00:00.000</td>\n",
       "      <td>1</td>\n",
       "    </tr>\n",
       "    <tr>\n",
       "      <th>2</th>\n",
       "      <td>3209270</td>\n",
       "      <td>Peace, love &amp; Wi-Fi : a ZITS treasury / by Jer...</td>\n",
       "      <td>Scott, Jerry, 1955-</td>\n",
       "      <td>144945867X, 9781449458676</td>\n",
       "      <td>2014.</td>\n",
       "      <td>Andrews McMeel Publishing,</td>\n",
       "      <td>Duncan Jeremy Fictitious character Comic books...</td>\n",
       "      <td>acbk</td>\n",
       "      <td>nycomic</td>\n",
       "      <td>NaN</td>\n",
       "      <td>bea</td>\n",
       "      <td>2017-09-01T00:00:00.000</td>\n",
       "      <td>1</td>\n",
       "    </tr>\n",
       "    <tr>\n",
       "      <th>3</th>\n",
       "      <td>1907265</td>\n",
       "      <td>The Paris pilgrims : a novel / Clancy Carlile.</td>\n",
       "      <td>Carlile, Clancy, 1930-</td>\n",
       "      <td>0786706155</td>\n",
       "      <td>c1999.</td>\n",
       "      <td>Carroll &amp; Graf,</td>\n",
       "      <td>Hemingway Ernest 1899 1961 Fiction, Biographic...</td>\n",
       "      <td>acbk</td>\n",
       "      <td>cafic</td>\n",
       "      <td>NaN</td>\n",
       "      <td>cen</td>\n",
       "      <td>2017-09-01T00:00:00.000</td>\n",
       "      <td>1</td>\n",
       "    </tr>\n",
       "    <tr>\n",
       "      <th>4</th>\n",
       "      <td>1644616</td>\n",
       "      <td>Erotic by nature : a celebration of life, of l...</td>\n",
       "      <td>NaN</td>\n",
       "      <td>094020813X</td>\n",
       "      <td>1991, c1988.</td>\n",
       "      <td>Red Alder Books/Down There Press,</td>\n",
       "      <td>Erotic literature American, American literatur...</td>\n",
       "      <td>acbk</td>\n",
       "      <td>canf</td>\n",
       "      <td>NaN</td>\n",
       "      <td>cen</td>\n",
       "      <td>2017-09-01T00:00:00.000</td>\n",
       "      <td>1</td>\n",
       "    </tr>\n",
       "    <tr>\n",
       "      <th>...</th>\n",
       "      <td>...</td>\n",
       "      <td>...</td>\n",
       "      <td>...</td>\n",
       "      <td>...</td>\n",
       "      <td>...</td>\n",
       "      <td>...</td>\n",
       "      <td>...</td>\n",
       "      <td>...</td>\n",
       "      <td>...</td>\n",
       "      <td>...</td>\n",
       "      <td>...</td>\n",
       "      <td>...</td>\n",
       "      <td>...</td>\n",
       "    </tr>\n",
       "    <tr>\n",
       "      <th>2665094</th>\n",
       "      <td>1292605</td>\n",
       "      <td>Owl babies / written by Martin Waddell ; illus...</td>\n",
       "      <td>Waddell, Martin</td>\n",
       "      <td>1564021017</td>\n",
       "      <td>c1992.</td>\n",
       "      <td>Candlewick Press,</td>\n",
       "      <td>Owls Juvenile fiction, Mother and child Juveni...</td>\n",
       "      <td>jcbk</td>\n",
       "      <td>ncpic</td>\n",
       "      <td>NaN</td>\n",
       "      <td>bro</td>\n",
       "      <td>2017-10-01T00:00:00.000</td>\n",
       "      <td>1</td>\n",
       "    </tr>\n",
       "    <tr>\n",
       "      <th>2665095</th>\n",
       "      <td>3052233</td>\n",
       "      <td>The happy sleeper : the science-backed guide t...</td>\n",
       "      <td>Turgeon, Heather.</td>\n",
       "      <td>0399166025, 9780399166020</td>\n",
       "      <td>c2014.</td>\n",
       "      <td>Jeremy P. Tarcher/Penguin,</td>\n",
       "      <td>Infants Sleep, Children Sleep, Child rearing</td>\n",
       "      <td>acbk</td>\n",
       "      <td>nanf</td>\n",
       "      <td>NaN</td>\n",
       "      <td>col</td>\n",
       "      <td>2017-10-01T00:00:00.000</td>\n",
       "      <td>1</td>\n",
       "    </tr>\n",
       "    <tr>\n",
       "      <th>2665096</th>\n",
       "      <td>3111622</td>\n",
       "      <td>Fearless / Elliott James.</td>\n",
       "      <td>James, Elliott</td>\n",
       "      <td>0316253448, 9780316253444</td>\n",
       "      <td>2015.</td>\n",
       "      <td>Orbit,</td>\n",
       "      <td>Fantasy fiction</td>\n",
       "      <td>acbk</td>\n",
       "      <td>cafic</td>\n",
       "      <td>NaN</td>\n",
       "      <td>cen</td>\n",
       "      <td>2017-10-01T00:00:00.000</td>\n",
       "      <td>1</td>\n",
       "    </tr>\n",
       "    <tr>\n",
       "      <th>2665097</th>\n",
       "      <td>3197669</td>\n",
       "      <td>Is that wise, Pig? / by Jan Thomas.</td>\n",
       "      <td>Thomas, Jan, 1958-</td>\n",
       "      <td>1416985824, 9781416985822</td>\n",
       "      <td>[2016]</td>\n",
       "      <td>Beach Lane Books,</td>\n",
       "      <td>Domestic animals Juvenile fiction, Swine Juven...</td>\n",
       "      <td>jcbk</td>\n",
       "      <td>ncpic</td>\n",
       "      <td>NaN</td>\n",
       "      <td>qna</td>\n",
       "      <td>2017-10-01T00:00:00.000</td>\n",
       "      <td>1</td>\n",
       "    </tr>\n",
       "    <tr>\n",
       "      <th>2665098</th>\n",
       "      <td>356163</td>\n",
       "      <td>Record of the ... annual meeting.</td>\n",
       "      <td>National Council of the Young Men's Christian ...</td>\n",
       "      <td>NaN</td>\n",
       "      <td>NaN</td>\n",
       "      <td>NaN</td>\n",
       "      <td>NaN</td>\n",
       "      <td>arbk</td>\n",
       "      <td>cs7ro</td>\n",
       "      <td>NaN</td>\n",
       "      <td>cen</td>\n",
       "      <td>2017-10-01T00:00:00.000</td>\n",
       "      <td>2</td>\n",
       "    </tr>\n",
       "  </tbody>\n",
       "</table>\n",
       "<p>2665099 rows × 13 columns</p>\n",
       "</div>"
      ],
      "text/plain": [
       "          bibnum                                              title  \\\n",
       "0        3011076  A tale of two friends / adapted by Ellie O'Rya...   \n",
       "1        2248846  Naruto. Vol. 1, Uzumaki Naruto / story and art...   \n",
       "2        3209270  Peace, love & Wi-Fi : a ZITS treasury / by Jer...   \n",
       "3        1907265     The Paris pilgrims : a novel / Clancy Carlile.   \n",
       "4        1644616  Erotic by nature : a celebration of life, of l...   \n",
       "...          ...                                                ...   \n",
       "2665094  1292605  Owl babies / written by Martin Waddell ; illus...   \n",
       "2665095  3052233  The happy sleeper : the science-backed guide t...   \n",
       "2665096  3111622                          Fearless / Elliott James.   \n",
       "2665097  3197669                Is that wise, Pig? / by Jan Thomas.   \n",
       "2665098   356163                  Record of the ... annual meeting.   \n",
       "\n",
       "                                                    author  \\\n",
       "0                                            O'Ryan, Ellie   \n",
       "1                                Kishimoto, Masashi, 1974-   \n",
       "2                                      Scott, Jerry, 1955-   \n",
       "3                                   Carlile, Clancy, 1930-   \n",
       "4                                                      NaN   \n",
       "...                                                    ...   \n",
       "2665094                                    Waddell, Martin   \n",
       "2665095                                  Turgeon, Heather.   \n",
       "2665096                                     James, Elliott   \n",
       "2665097                                 Thomas, Jan, 1958-   \n",
       "2665098  National Council of the Young Men's Christian ...   \n",
       "\n",
       "                                                      isbn publicationyear  \\\n",
       "0        1481425730, 1481425749, 9781481425735, 9781481...           2014.   \n",
       "1                                               1569319006    2003, c1999.   \n",
       "2                                144945867X, 9781449458676           2014.   \n",
       "3                                               0786706155          c1999.   \n",
       "4                                               094020813X    1991, c1988.   \n",
       "...                                                    ...             ...   \n",
       "2665094                                         1564021017          c1992.   \n",
       "2665095                          0399166025, 9780399166020          c2014.   \n",
       "2665096                          0316253448, 9780316253444           2015.   \n",
       "2665097                          1416985824, 9781416985822          [2016]   \n",
       "2665098                                                NaN             NaN   \n",
       "\n",
       "                                 publisher  \\\n",
       "0                         Simon Spotlight,   \n",
       "1                                     Viz,   \n",
       "2               Andrews McMeel Publishing,   \n",
       "3                          Carroll & Graf,   \n",
       "4        Red Alder Books/Down There Press,   \n",
       "...                                    ...   \n",
       "2665094                  Candlewick Press,   \n",
       "2665095         Jeremy P. Tarcher/Penguin,   \n",
       "2665096                             Orbit,   \n",
       "2665097                  Beach Lane Books,   \n",
       "2665098                                NaN   \n",
       "\n",
       "                                                  subjects itemtype  \\\n",
       "0        Musicians Fiction, Bullfighters Fiction, Best ...     jcbk   \n",
       "1        Ninja Japan Comic books strips etc, Comic book...     acbk   \n",
       "2        Duncan Jeremy Fictitious character Comic books...     acbk   \n",
       "3        Hemingway Ernest 1899 1961 Fiction, Biographic...     acbk   \n",
       "4        Erotic literature American, American literatur...     acbk   \n",
       "...                                                    ...      ...   \n",
       "2665094  Owls Juvenile fiction, Mother and child Juveni...     jcbk   \n",
       "2665095       Infants Sleep, Children Sleep, Child rearing     acbk   \n",
       "2665096                                    Fantasy fiction     acbk   \n",
       "2665097  Domestic animals Juvenile fiction, Swine Juven...     jcbk   \n",
       "2665098                                                NaN     arbk   \n",
       "\n",
       "        itemcollection floatingitem itemlocation               reportdate  \\\n",
       "0                ncrdr     Floating          qna  2017-09-01T00:00:00.000   \n",
       "1              nycomic          NaN          lcy  2017-09-01T00:00:00.000   \n",
       "2              nycomic          NaN          bea  2017-09-01T00:00:00.000   \n",
       "3                cafic          NaN          cen  2017-09-01T00:00:00.000   \n",
       "4                 canf          NaN          cen  2017-09-01T00:00:00.000   \n",
       "...                ...          ...          ...                      ...   \n",
       "2665094          ncpic          NaN          bro  2017-10-01T00:00:00.000   \n",
       "2665095           nanf          NaN          col  2017-10-01T00:00:00.000   \n",
       "2665096          cafic          NaN          cen  2017-10-01T00:00:00.000   \n",
       "2665097          ncpic          NaN          qna  2017-10-01T00:00:00.000   \n",
       "2665098          cs7ro          NaN          cen  2017-10-01T00:00:00.000   \n",
       "\n",
       "         itemcount  \n",
       "0                1  \n",
       "1                1  \n",
       "2                1  \n",
       "3                1  \n",
       "4                1  \n",
       "...            ...  \n",
       "2665094          1  \n",
       "2665095          1  \n",
       "2665096          1  \n",
       "2665097          1  \n",
       "2665098          2  \n",
       "\n",
       "[2665099 rows x 13 columns]"
      ]
     },
     "execution_count": 7,
     "metadata": {},
     "output_type": "execute_result"
    }
   ],
   "source": [
    "# Über die Erstellte Variable checkout kann nun teile der csv Datei angezeigt werden: \n",
    "inventory"
   ]
  },
  {
   "cell_type": "markdown",
   "metadata": {},
   "source": [
    "## Frage 4: Wie verteilt sich der Bestand auf die entsprechenden Standorte?"
   ]
  },
  {
   "cell_type": "code",
   "execution_count": 11,
   "metadata": {},
   "outputs": [
    {
     "data": {
      "text/html": [
       "<div>\n",
       "<style scoped>\n",
       "    .dataframe tbody tr th:only-of-type {\n",
       "        vertical-align: middle;\n",
       "    }\n",
       "\n",
       "    .dataframe tbody tr th {\n",
       "        vertical-align: top;\n",
       "    }\n",
       "\n",
       "    .dataframe thead th {\n",
       "        text-align: right;\n",
       "    }\n",
       "</style>\n",
       "<table border=\"1\" class=\"dataframe\">\n",
       "  <thead>\n",
       "    <tr style=\"text-align: right;\">\n",
       "      <th></th>\n",
       "      <th>itemlocation</th>\n",
       "    </tr>\n",
       "  </thead>\n",
       "  <tbody>\n",
       "    <tr>\n",
       "      <th>0</th>\n",
       "      <td>qna</td>\n",
       "    </tr>\n",
       "    <tr>\n",
       "      <th>1</th>\n",
       "      <td>lcy</td>\n",
       "    </tr>\n",
       "    <tr>\n",
       "      <th>2</th>\n",
       "      <td>bea</td>\n",
       "    </tr>\n",
       "    <tr>\n",
       "      <th>3</th>\n",
       "      <td>cen</td>\n",
       "    </tr>\n",
       "    <tr>\n",
       "      <th>4</th>\n",
       "      <td>cen</td>\n",
       "    </tr>\n",
       "    <tr>\n",
       "      <th>...</th>\n",
       "      <td>...</td>\n",
       "    </tr>\n",
       "    <tr>\n",
       "      <th>2665094</th>\n",
       "      <td>bro</td>\n",
       "    </tr>\n",
       "    <tr>\n",
       "      <th>2665095</th>\n",
       "      <td>col</td>\n",
       "    </tr>\n",
       "    <tr>\n",
       "      <th>2665096</th>\n",
       "      <td>cen</td>\n",
       "    </tr>\n",
       "    <tr>\n",
       "      <th>2665097</th>\n",
       "      <td>qna</td>\n",
       "    </tr>\n",
       "    <tr>\n",
       "      <th>2665098</th>\n",
       "      <td>cen</td>\n",
       "    </tr>\n",
       "  </tbody>\n",
       "</table>\n",
       "<p>2665099 rows × 1 columns</p>\n",
       "</div>"
      ],
      "text/plain": [
       "        itemlocation\n",
       "0                qna\n",
       "1                lcy\n",
       "2                bea\n",
       "3                cen\n",
       "4                cen\n",
       "...              ...\n",
       "2665094          bro\n",
       "2665095          col\n",
       "2665096          cen\n",
       "2665097          qna\n",
       "2665098          cen\n",
       "\n",
       "[2665099 rows x 1 columns]"
      ]
     },
     "execution_count": 11,
     "metadata": {},
     "output_type": "execute_result"
    }
   ],
   "source": [
    "# Wir betrachten für diese Frage nur die Spalte \"itemlocation\"\n",
    "inventory[[\"itemlocation\"]]"
   ]
  },
  {
   "cell_type": "code",
   "execution_count": 26,
   "metadata": {},
   "outputs": [
    {
     "data": {
      "text/plain": [
       "cen     1071757\n",
       "net      122695\n",
       "bal      109736\n",
       "gwd      103371\n",
       "swt      101348\n",
       "lcy       98965\n",
       "dth       91476\n",
       "bro       86298\n",
       "cap       72237\n",
       "bea       70119\n",
       "wts       67557\n",
       "nga       67424\n",
       "rbe       65267\n",
       "col       62953\n",
       "uni       57151\n",
       "glk       53287\n",
       "mag       51270\n",
       "qna       47527\n",
       "hip       39151\n",
       "fre       34254\n",
       "mon       33564\n",
       "dlr       32222\n",
       "spa       31752\n",
       "nhy       23113\n",
       "idc       22219\n",
       "mgm       20479\n",
       "wal       17482\n",
       "mob        9285\n",
       "tcs        1023\n",
       "GWD         103\n",
       "drp1         10\n",
       "out           2\n",
       "ill           2\n",
       "Name: itemlocation, dtype: int64"
      ]
     },
     "execution_count": 26,
     "metadata": {},
     "output_type": "execute_result"
    }
   ],
   "source": [
    "# Mit dem Befehl value_counts können wir die häufigkeit der Werte zählen und erhalten so die Anzahl der Medien pro Standort:\n",
    "inventory.itemlocation.value_counts()"
   ]
  },
  {
   "cell_type": "code",
   "execution_count": 53,
   "metadata": {},
   "outputs": [
    {
     "data": {
      "text/plain": [
       "Text(0.5, 0, 'Locations')"
      ]
     },
     "execution_count": 53,
     "metadata": {},
     "output_type": "execute_result"
    },
    {
     "data": {
      "image/png": "[encoded data removed]",
      "text/plain": [
       "<Figure size 1440x720 with 1 Axes>"
      ]
     },
     "metadata": {
      "needs_background": "light"
     },
     "output_type": "display_data"
    }
   ],
   "source": [
    "# Dieses Ergebniss können wir in einem Histogramm darstellen:\n",
    "inventory[\"itemlocation\"].hist(bins=30, figsize=[20,10])\n",
    "plt.ylabel('Items in Location')\n",
    "plt.xlabel('Locations')"
   ]
  },
  {
   "cell_type": "markdown",
   "metadata": {},
   "source": [
    "## Frage 5: Wie hoch ist die Anzahl an floating itmes im Gesamtsystem?"
   ]
  },
  {
   "cell_type": "code",
   "execution_count": 73,
   "metadata": {},
   "outputs": [
    {
     "data": {
      "text/html": [
       "<div>\n",
       "<style scoped>\n",
       "    .dataframe tbody tr th:only-of-type {\n",
       "        vertical-align: middle;\n",
       "    }\n",
       "\n",
       "    .dataframe tbody tr th {\n",
       "        vertical-align: top;\n",
       "    }\n",
       "\n",
       "    .dataframe thead th {\n",
       "        text-align: right;\n",
       "    }\n",
       "</style>\n",
       "<table border=\"1\" class=\"dataframe\">\n",
       "  <thead>\n",
       "    <tr style=\"text-align: right;\">\n",
       "      <th></th>\n",
       "      <th>floatingitem</th>\n",
       "    </tr>\n",
       "  </thead>\n",
       "  <tbody>\n",
       "    <tr>\n",
       "      <th>0</th>\n",
       "      <td>Floating</td>\n",
       "    </tr>\n",
       "    <tr>\n",
       "      <th>1</th>\n",
       "      <td>NaN</td>\n",
       "    </tr>\n",
       "    <tr>\n",
       "      <th>2</th>\n",
       "      <td>NaN</td>\n",
       "    </tr>\n",
       "    <tr>\n",
       "      <th>3</th>\n",
       "      <td>NaN</td>\n",
       "    </tr>\n",
       "    <tr>\n",
       "      <th>4</th>\n",
       "      <td>NaN</td>\n",
       "    </tr>\n",
       "    <tr>\n",
       "      <th>...</th>\n",
       "      <td>...</td>\n",
       "    </tr>\n",
       "    <tr>\n",
       "      <th>2665094</th>\n",
       "      <td>NaN</td>\n",
       "    </tr>\n",
       "    <tr>\n",
       "      <th>2665095</th>\n",
       "      <td>NaN</td>\n",
       "    </tr>\n",
       "    <tr>\n",
       "      <th>2665096</th>\n",
       "      <td>NaN</td>\n",
       "    </tr>\n",
       "    <tr>\n",
       "      <th>2665097</th>\n",
       "      <td>NaN</td>\n",
       "    </tr>\n",
       "    <tr>\n",
       "      <th>2665098</th>\n",
       "      <td>NaN</td>\n",
       "    </tr>\n",
       "  </tbody>\n",
       "</table>\n",
       "<p>2665099 rows × 1 columns</p>\n",
       "</div>"
      ],
      "text/plain": [
       "        floatingitem\n",
       "0           Floating\n",
       "1                NaN\n",
       "2                NaN\n",
       "3                NaN\n",
       "4                NaN\n",
       "...              ...\n",
       "2665094          NaN\n",
       "2665095          NaN\n",
       "2665096          NaN\n",
       "2665097          NaN\n",
       "2665098          NaN\n",
       "\n",
       "[2665099 rows x 1 columns]"
      ]
     },
     "execution_count": 73,
     "metadata": {},
     "output_type": "execute_result"
    }
   ],
   "source": [
    "floa = inventory[[\"floatingitem\"]]\n",
    "floa"
   ]
  },
  {
   "cell_type": "code",
   "execution_count": 98,
   "metadata": {},
   "outputs": [
    {
     "name": "stdout",
     "output_type": "stream",
     "text": [
      "2665099\n"
     ]
    }
   ],
   "source": [
    "# Als erstes werden die Zeilen in der Spalte \"floatingitem\" gezählt, dadurch erhalten wir die gesamt Anzahl an Medien:\n",
    "index = floa.index\n",
    "number_of_rows = len(index)\n",
    "print(number_of_rows)"
   ]
  },
  {
   "cell_type": "code",
   "execution_count": 104,
   "metadata": {},
   "outputs": [
    {
     "data": {
      "text/plain": [
       "Floating    407767\n",
       "Name: floatingitem, dtype: int64"
      ]
     },
     "execution_count": 104,
     "metadata": {},
     "output_type": "execute_result"
    }
   ],
   "source": [
    "# Über diese Abfrage wird gezählt wie viele Medien in der Spalte \"floatingitem\" den Wert \"Floating\" haben\n",
    "# und in die Variable \"floatingnumber\" gespeichert:\n",
    "floatingnumber = inventory.floatingitem.value_counts ()\n",
    "floatingnumber"
   ]
  },
  {
   "cell_type": "code",
   "execution_count": 99,
   "metadata": {},
   "outputs": [
    {
     "data": {
      "text/plain": [
       "Floating    2257332\n",
       "Name: floatingitem, dtype: int64"
      ]
     },
     "execution_count": 99,
     "metadata": {},
     "output_type": "execute_result"
    }
   ],
   "source": [
    "# Um auf die Anzahl an nicht Floating Medien zu kommen werden die Anzahl an Zeilen von dem Wert aus \"floatingnumber\" abgezogen:\n",
    "nofloating = (number_of_rows - floatingnumber)\n",
    "nofloating"
   ]
  },
  {
   "cell_type": "code",
   "execution_count": 100,
   "metadata": {},
   "outputs": [
    {
     "name": "stderr",
     "output_type": "stream",
     "text": [
      "D:\\Anaconda_3\\lib\\site-packages\\ipykernel_launcher.py:8: MatplotlibDeprecationWarning: Non-1D inputs to pie() are currently squeeze()d, but this behavior is deprecated since 3.1 and will be removed in 3.3; pass a 1D array instead.\n",
      "  \n"
     ]
    },
    {
     "data": {
      "image/png": "[encoded data removed]",
      "text/plain": [
       "<Figure size 432x288 with 1 Axes>"
      ]
     },
     "metadata": {},
     "output_type": "display_data"
    }
   ],
   "source": [
    "# Diese Werte werden als sizes in das Kuchen-Diagramm übernommen:\n",
    "labels = 'NoFloating', 'Floating'\n",
    "sizes = [nofloating,floatingnumber]\n",
    "explode = (0, 0.1,)\n",
    "\n",
    "fig1, ax1 = plt.subplots()\n",
    "ax1.pie(sizes, explode=explode, labels=labels, autopct='%1.1f%%',\n",
    "        shadow=True, startangle=90)\n",
    "plt.show()"
   ]
  },
  {
   "cell_type": "code",
   "execution_count": null,
   "metadata": {},
   "outputs": [],
   "source": []
  }
 ],
 "metadata": {
  "kernelspec": {
   "display_name": "Python 3",
   "language": "python",
   "name": "python3"
  },
  "language_info": {
   "codemirror_mode": {
    "name": "ipython",
    "version": 3
   },
   "file_extension": ".py",
   "mimetype": "text/x-python",
   "name": "python",
   "nbconvert_exporter": "python",
   "pygments_lexer": "ipython3",
   "version": "3.7.6"
  }
 },
 "nbformat": 4,
 "nbformat_minor": 4
}
