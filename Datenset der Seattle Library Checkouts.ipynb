{
 "cells": [
  {
   "cell_type": "markdown",
   "metadata": {},
   "source": [
    "# Datenset der Seattle Library Checkouts\n",
    "In diesem Jupyter Notebook sollen die Checkout Daten aus dem Jahr 2018 der Bibliothek betrachtet werden. Dabei werden folgende Fragen bearbeitet und die Ergebnisse Präsentiert:\n",
    "\n",
    "- Welches Medium wurde in welchem Monat am meisten ausgeliehen?\n",
    "- Wie ist das verhältnis zwischen Digitalen und Analogen Medien?\n",
    "- Wie viele Medien haben nur eine Ausleihe\n",
    "\n",
    "Die Daten werden dabei über einen Befehl von der Seite der data.seattle.gov heruntergeladen und in einer csv Datei lokal auf dem Computer gespeichert der das Jupyter Notebook ausführt."
   ]
  },
  {
   "cell_type": "code",
   "execution_count": 1,
   "metadata": {},
   "outputs": [],
   "source": [
    "# Zunächst werden zusätzliche Bibliotheken importiert um den Umfang der Python Befehle zu erweitern:\n",
    "import urllib.request\n",
    "import pandas as pd\n",
    "import matplotlib.pyplot as plt"
   ]
  },
  {
   "cell_type": "code",
   "execution_count": 23,
   "metadata": {},
   "outputs": [],
   "source": [
    "# Variabeln für den Download und speichern der Daten\n",
    "url = \"https://data.seattle.gov/resource/tmmm-ytt6.csv?$where=checkoutyear=2018&$limit=2665099\"\n",
    "co_file = \"checkoutsSL2018.csv\""
   ]
  },
  {
   "cell_type": "code",
   "execution_count": 3,
   "metadata": {},
   "outputs": [
    {
     "data": {
      "text/plain": [
       "('checkoutsSL2018.csv', <http.client.HTTPMessage at 0x20302986308>)"
      ]
     },
     "execution_count": 3,
     "metadata": {},
     "output_type": "execute_result"
    }
   ],
   "source": [
    "# Download der Daten, dafür wird die importierte Bibliothek urllib.request benutzt:\n",
    "urllib.request.urlretrieve(url, co_file)"
   ]
  },
  {
   "cell_type": "code",
   "execution_count": 4,
   "metadata": {},
   "outputs": [],
   "source": [
    "# Variable für das lesen der co_file mit hilfe der Panda Bibliothek:\n",
    "checkout = pd.read_csv(co_file)"
   ]
  },
  {
   "cell_type": "code",
   "execution_count": 5,
   "metadata": {},
   "outputs": [
    {
     "data": {
      "text/html": [
       "<div>\n",
       "<style scoped>\n",
       "    .dataframe tbody tr th:only-of-type {\n",
       "        vertical-align: middle;\n",
       "    }\n",
       "\n",
       "    .dataframe tbody tr th {\n",
       "        vertical-align: top;\n",
       "    }\n",
       "\n",
       "    .dataframe thead th {\n",
       "        text-align: right;\n",
       "    }\n",
       "</style>\n",
       "<table border=\"1\" class=\"dataframe\">\n",
       "  <thead>\n",
       "    <tr style=\"text-align: right;\">\n",
       "      <th></th>\n",
       "      <th>usageclass</th>\n",
       "      <th>checkouttype</th>\n",
       "      <th>materialtype</th>\n",
       "      <th>checkoutyear</th>\n",
       "      <th>checkoutmonth</th>\n",
       "      <th>checkouts</th>\n",
       "      <th>title</th>\n",
       "      <th>creator</th>\n",
       "      <th>subjects</th>\n",
       "      <th>publisher</th>\n",
       "      <th>publicationyear</th>\n",
       "    </tr>\n",
       "  </thead>\n",
       "  <tbody>\n",
       "    <tr>\n",
       "      <th>0</th>\n",
       "      <td>Physical</td>\n",
       "      <td>Horizon</td>\n",
       "      <td>BOOK</td>\n",
       "      <td>2018</td>\n",
       "      <td>12</td>\n",
       "      <td>1</td>\n",
       "      <td>Naruto. Vol. 65, Hashirama and Madara / story ...</td>\n",
       "      <td>Kishimoto, Masashi, 1974-</td>\n",
       "      <td>Naruto Fictitious character Comic books strips...</td>\n",
       "      <td>VIZ Media,</td>\n",
       "      <td>[2014]</td>\n",
       "    </tr>\n",
       "    <tr>\n",
       "      <th>1</th>\n",
       "      <td>Physical</td>\n",
       "      <td>Horizon</td>\n",
       "      <td>BOOK</td>\n",
       "      <td>2018</td>\n",
       "      <td>12</td>\n",
       "      <td>2</td>\n",
       "      <td>Oishisō na shirokuma / Shibata Keiko.</td>\n",
       "      <td>Shibata, Keiko.</td>\n",
       "      <td>Polar bear Juvenile fiction, Food Juvenile fic...</td>\n",
       "      <td>Pīeichipīkenkyūjo,</td>\n",
       "      <td>2017.</td>\n",
       "    </tr>\n",
       "    <tr>\n",
       "      <th>2</th>\n",
       "      <td>Physical</td>\n",
       "      <td>Horizon</td>\n",
       "      <td>VIDEODISC</td>\n",
       "      <td>2018</td>\n",
       "      <td>12</td>\n",
       "      <td>7</td>\n",
       "      <td>Like crazy / Paramount Vantage ; Indian Paintb...</td>\n",
       "      <td>NaN</td>\n",
       "      <td>First loves Drama, College students Drama, Fea...</td>\n",
       "      <td>Paramount Home Entertainment,</td>\n",
       "      <td>[2012]</td>\n",
       "    </tr>\n",
       "    <tr>\n",
       "      <th>3</th>\n",
       "      <td>Digital</td>\n",
       "      <td>OverDrive</td>\n",
       "      <td>AUDIOBOOK</td>\n",
       "      <td>2018</td>\n",
       "      <td>12</td>\n",
       "      <td>3</td>\n",
       "      <td>Catch a Falling Heiress: American Heiress In L...</td>\n",
       "      <td>Laura Lee Guhrke</td>\n",
       "      <td>Fiction, Historical Fiction, Romance</td>\n",
       "      <td>HarperCollins Publishers Inc.</td>\n",
       "      <td>2016</td>\n",
       "    </tr>\n",
       "    <tr>\n",
       "      <th>4</th>\n",
       "      <td>Physical</td>\n",
       "      <td>Horizon</td>\n",
       "      <td>BOOK</td>\n",
       "      <td>2018</td>\n",
       "      <td>12</td>\n",
       "      <td>1</td>\n",
       "      <td>Literally show me a healthy person / Darcie Wi...</td>\n",
       "      <td>Wilder, Darcie</td>\n",
       "      <td>Young women Fiction, Grief Fiction</td>\n",
       "      <td>Tyrant Books,</td>\n",
       "      <td>[2017]</td>\n",
       "    </tr>\n",
       "    <tr>\n",
       "      <th>...</th>\n",
       "      <td>...</td>\n",
       "      <td>...</td>\n",
       "      <td>...</td>\n",
       "      <td>...</td>\n",
       "      <td>...</td>\n",
       "      <td>...</td>\n",
       "      <td>...</td>\n",
       "      <td>...</td>\n",
       "      <td>...</td>\n",
       "      <td>...</td>\n",
       "      <td>...</td>\n",
       "    </tr>\n",
       "    <tr>\n",
       "      <th>2665093</th>\n",
       "      <td>Digital</td>\n",
       "      <td>Hoopla</td>\n",
       "      <td>MUSIC</td>\n",
       "      <td>2018</td>\n",
       "      <td>1</td>\n",
       "      <td>1</td>\n",
       "      <td>The Snow Queen</td>\n",
       "      <td>NaN</td>\n",
       "      <td>Pop</td>\n",
       "      <td>LIGHTYEAR</td>\n",
       "      <td>NaN</td>\n",
       "    </tr>\n",
       "    <tr>\n",
       "      <th>2665094</th>\n",
       "      <td>Physical</td>\n",
       "      <td>Horizon</td>\n",
       "      <td>BOOK</td>\n",
       "      <td>2018</td>\n",
       "      <td>1</td>\n",
       "      <td>4</td>\n",
       "      <td>There was an old lady who swallowed a fly / il...</td>\n",
       "      <td>NaN</td>\n",
       "      <td>Nonsense verses Juvenile literature, Folk song...</td>\n",
       "      <td>Child's Play,</td>\n",
       "      <td>2002.</td>\n",
       "    </tr>\n",
       "    <tr>\n",
       "      <th>2665095</th>\n",
       "      <td>Physical</td>\n",
       "      <td>Horizon</td>\n",
       "      <td>BOOK</td>\n",
       "      <td>2018</td>\n",
       "      <td>1</td>\n",
       "      <td>2</td>\n",
       "      <td>The book of night women / Marlon James.</td>\n",
       "      <td>James, Marlon, 1970-</td>\n",
       "      <td>Slaves Fiction, Jamaica Fiction, Historical fi...</td>\n",
       "      <td>Riverhead Books,</td>\n",
       "      <td>2010.</td>\n",
       "    </tr>\n",
       "    <tr>\n",
       "      <th>2665096</th>\n",
       "      <td>Physical</td>\n",
       "      <td>Horizon</td>\n",
       "      <td>BOOK</td>\n",
       "      <td>2018</td>\n",
       "      <td>1</td>\n",
       "      <td>1</td>\n",
       "      <td>Hunting Eve / Iris Johansen.</td>\n",
       "      <td>Johansen, Iris</td>\n",
       "      <td>Duncan Eve Fictitious character Fiction, Track...</td>\n",
       "      <td>St. Martin's Press,</td>\n",
       "      <td>2013.</td>\n",
       "    </tr>\n",
       "    <tr>\n",
       "      <th>2665097</th>\n",
       "      <td>Physical</td>\n",
       "      <td>Horizon</td>\n",
       "      <td>BOOK</td>\n",
       "      <td>2018</td>\n",
       "      <td>1</td>\n",
       "      <td>1</td>\n",
       "      <td>Bienestar emocional / Osho ; traducción de Esp...</td>\n",
       "      <td>Osho, 1931-1990,</td>\n",
       "      <td>Emotions</td>\n",
       "      <td>Debolsillo,</td>\n",
       "      <td>2017.</td>\n",
       "    </tr>\n",
       "  </tbody>\n",
       "</table>\n",
       "<p>2665098 rows × 11 columns</p>\n",
       "</div>"
      ],
      "text/plain": [
       "        usageclass checkouttype materialtype  checkoutyear  checkoutmonth  \\\n",
       "0         Physical      Horizon         BOOK          2018             12   \n",
       "1         Physical      Horizon         BOOK          2018             12   \n",
       "2         Physical      Horizon    VIDEODISC          2018             12   \n",
       "3          Digital    OverDrive    AUDIOBOOK          2018             12   \n",
       "4         Physical      Horizon         BOOK          2018             12   \n",
       "...            ...          ...          ...           ...            ...   \n",
       "2665093    Digital       Hoopla        MUSIC          2018              1   \n",
       "2665094   Physical      Horizon         BOOK          2018              1   \n",
       "2665095   Physical      Horizon         BOOK          2018              1   \n",
       "2665096   Physical      Horizon         BOOK          2018              1   \n",
       "2665097   Physical      Horizon         BOOK          2018              1   \n",
       "\n",
       "         checkouts                                              title  \\\n",
       "0                1  Naruto. Vol. 65, Hashirama and Madara / story ...   \n",
       "1                2              Oishisō na shirokuma / Shibata Keiko.   \n",
       "2                7  Like crazy / Paramount Vantage ; Indian Paintb...   \n",
       "3                3  Catch a Falling Heiress: American Heiress In L...   \n",
       "4                1  Literally show me a healthy person / Darcie Wi...   \n",
       "...            ...                                                ...   \n",
       "2665093          1                                     The Snow Queen   \n",
       "2665094          4  There was an old lady who swallowed a fly / il...   \n",
       "2665095          2            The book of night women / Marlon James.   \n",
       "2665096          1                       Hunting Eve / Iris Johansen.   \n",
       "2665097          1  Bienestar emocional / Osho ; traducción de Esp...   \n",
       "\n",
       "                           creator  \\\n",
       "0        Kishimoto, Masashi, 1974-   \n",
       "1                  Shibata, Keiko.   \n",
       "2                              NaN   \n",
       "3                 Laura Lee Guhrke   \n",
       "4                   Wilder, Darcie   \n",
       "...                            ...   \n",
       "2665093                        NaN   \n",
       "2665094                        NaN   \n",
       "2665095       James, Marlon, 1970-   \n",
       "2665096             Johansen, Iris   \n",
       "2665097           Osho, 1931-1990,   \n",
       "\n",
       "                                                  subjects  \\\n",
       "0        Naruto Fictitious character Comic books strips...   \n",
       "1        Polar bear Juvenile fiction, Food Juvenile fic...   \n",
       "2        First loves Drama, College students Drama, Fea...   \n",
       "3                     Fiction, Historical Fiction, Romance   \n",
       "4                       Young women Fiction, Grief Fiction   \n",
       "...                                                    ...   \n",
       "2665093                                                Pop   \n",
       "2665094  Nonsense verses Juvenile literature, Folk song...   \n",
       "2665095  Slaves Fiction, Jamaica Fiction, Historical fi...   \n",
       "2665096  Duncan Eve Fictitious character Fiction, Track...   \n",
       "2665097                                           Emotions   \n",
       "\n",
       "                             publisher publicationyear  \n",
       "0                           VIZ Media,          [2014]  \n",
       "1                   Pīeichipīkenkyūjo,           2017.  \n",
       "2        Paramount Home Entertainment,          [2012]  \n",
       "3        HarperCollins Publishers Inc.            2016  \n",
       "4                        Tyrant Books,          [2017]  \n",
       "...                                ...             ...  \n",
       "2665093                      LIGHTYEAR             NaN  \n",
       "2665094                  Child's Play,           2002.  \n",
       "2665095               Riverhead Books,           2010.  \n",
       "2665096            St. Martin's Press,           2013.  \n",
       "2665097                    Debolsillo,           2017.  \n",
       "\n",
       "[2665098 rows x 11 columns]"
      ]
     },
     "execution_count": 5,
     "metadata": {},
     "output_type": "execute_result"
    }
   ],
   "source": [
    "# Über die Erstellte Variable checkout kann nun teile der csv Datei angezeigt werden: \n",
    "checkout"
   ]
  },
  {
   "cell_type": "code",
   "execution_count": 6,
   "metadata": {},
   "outputs": [
    {
     "data": {
      "text/plain": [
       "Index(['usageclass', 'checkouttype', 'materialtype', 'checkoutyear',\n",
       "       'checkoutmonth', 'checkouts', 'title', 'creator', 'subjects',\n",
       "       'publisher', 'publicationyear'],\n",
       "      dtype='object')"
      ]
     },
     "execution_count": 6,
     "metadata": {},
     "output_type": "execute_result"
    }
   ],
   "source": [
    "# Für die weitere bearbeitung ist das auflisten der Zeilenüberschriften von Vorteil:\n",
    "checkout.columns"
   ]
  },
  {
   "cell_type": "markdown",
   "metadata": {},
   "source": [
    "## Frage 1: Welches Medium wurde in welchem Monat am meisten ausgeliehen?"
   ]
  },
  {
   "cell_type": "code",
   "execution_count": 7,
   "metadata": {},
   "outputs": [
    {
     "data": {
      "text/plain": [
       "2073"
      ]
     },
     "execution_count": 7,
     "metadata": {},
     "output_type": "execute_result"
    }
   ],
   "source": [
    "# Welcher Wert ist der höhste in der Spalte checkouts?\n",
    "checkout.checkouts.max()"
   ]
  },
  {
   "cell_type": "code",
   "execution_count": 8,
   "metadata": {},
   "outputs": [],
   "source": [
    "# Den Wert aus der vorherigen Abfrage speichern wir in einer neuen Variable:\n",
    "maxch = checkout.checkouts.max()"
   ]
  },
  {
   "cell_type": "code",
   "execution_count": 9,
   "metadata": {},
   "outputs": [
    {
     "data": {
      "text/html": [
       "<div>\n",
       "<style scoped>\n",
       "    .dataframe tbody tr th:only-of-type {\n",
       "        vertical-align: middle;\n",
       "    }\n",
       "\n",
       "    .dataframe tbody tr th {\n",
       "        vertical-align: top;\n",
       "    }\n",
       "\n",
       "    .dataframe thead th {\n",
       "        text-align: right;\n",
       "    }\n",
       "</style>\n",
       "<table border=\"1\" class=\"dataframe\">\n",
       "  <thead>\n",
       "    <tr style=\"text-align: right;\">\n",
       "      <th></th>\n",
       "      <th>checkouts</th>\n",
       "      <th>title</th>\n",
       "      <th>checkoutmonth</th>\n",
       "    </tr>\n",
       "  </thead>\n",
       "  <tbody>\n",
       "    <tr>\n",
       "      <th>0</th>\n",
       "      <td>1</td>\n",
       "      <td>Naruto. Vol. 65, Hashirama and Madara / story ...</td>\n",
       "      <td>12</td>\n",
       "    </tr>\n",
       "    <tr>\n",
       "      <th>1</th>\n",
       "      <td>2</td>\n",
       "      <td>Oishisō na shirokuma / Shibata Keiko.</td>\n",
       "      <td>12</td>\n",
       "    </tr>\n",
       "    <tr>\n",
       "      <th>2</th>\n",
       "      <td>7</td>\n",
       "      <td>Like crazy / Paramount Vantage ; Indian Paintb...</td>\n",
       "      <td>12</td>\n",
       "    </tr>\n",
       "    <tr>\n",
       "      <th>3</th>\n",
       "      <td>3</td>\n",
       "      <td>Catch a Falling Heiress: American Heiress In L...</td>\n",
       "      <td>12</td>\n",
       "    </tr>\n",
       "    <tr>\n",
       "      <th>4</th>\n",
       "      <td>1</td>\n",
       "      <td>Literally show me a healthy person / Darcie Wi...</td>\n",
       "      <td>12</td>\n",
       "    </tr>\n",
       "    <tr>\n",
       "      <th>...</th>\n",
       "      <td>...</td>\n",
       "      <td>...</td>\n",
       "      <td>...</td>\n",
       "    </tr>\n",
       "    <tr>\n",
       "      <th>2665093</th>\n",
       "      <td>1</td>\n",
       "      <td>The Snow Queen</td>\n",
       "      <td>1</td>\n",
       "    </tr>\n",
       "    <tr>\n",
       "      <th>2665094</th>\n",
       "      <td>4</td>\n",
       "      <td>There was an old lady who swallowed a fly / il...</td>\n",
       "      <td>1</td>\n",
       "    </tr>\n",
       "    <tr>\n",
       "      <th>2665095</th>\n",
       "      <td>2</td>\n",
       "      <td>The book of night women / Marlon James.</td>\n",
       "      <td>1</td>\n",
       "    </tr>\n",
       "    <tr>\n",
       "      <th>2665096</th>\n",
       "      <td>1</td>\n",
       "      <td>Hunting Eve / Iris Johansen.</td>\n",
       "      <td>1</td>\n",
       "    </tr>\n",
       "    <tr>\n",
       "      <th>2665097</th>\n",
       "      <td>1</td>\n",
       "      <td>Bienestar emocional / Osho ; traducción de Esp...</td>\n",
       "      <td>1</td>\n",
       "    </tr>\n",
       "  </tbody>\n",
       "</table>\n",
       "<p>2665098 rows × 3 columns</p>\n",
       "</div>"
      ],
      "text/plain": [
       "         checkouts                                              title  \\\n",
       "0                1  Naruto. Vol. 65, Hashirama and Madara / story ...   \n",
       "1                2              Oishisō na shirokuma / Shibata Keiko.   \n",
       "2                7  Like crazy / Paramount Vantage ; Indian Paintb...   \n",
       "3                3  Catch a Falling Heiress: American Heiress In L...   \n",
       "4                1  Literally show me a healthy person / Darcie Wi...   \n",
       "...            ...                                                ...   \n",
       "2665093          1                                     The Snow Queen   \n",
       "2665094          4  There was an old lady who swallowed a fly / il...   \n",
       "2665095          2            The book of night women / Marlon James.   \n",
       "2665096          1                       Hunting Eve / Iris Johansen.   \n",
       "2665097          1  Bienestar emocional / Osho ; traducción de Esp...   \n",
       "\n",
       "         checkoutmonth  \n",
       "0                   12  \n",
       "1                   12  \n",
       "2                   12  \n",
       "3                   12  \n",
       "4                   12  \n",
       "...                ...  \n",
       "2665093              1  \n",
       "2665094              1  \n",
       "2665095              1  \n",
       "2665096              1  \n",
       "2665097              1  \n",
       "\n",
       "[2665098 rows x 3 columns]"
      ]
     },
     "execution_count": 9,
     "metadata": {},
     "output_type": "execute_result"
    }
   ],
   "source": [
    "# Da wir uns in dieser Abfrage nur für bestimmte teile der Tabelle interessieren, schränken wir diese auf die Spalten Checkouts, \n",
    "# checkoutmonth und Titel ein\n",
    "checkout [[\"checkouts\", \"title\", \"checkoutmonth\"]]"
   ]
  },
  {
   "cell_type": "code",
   "execution_count": 10,
   "metadata": {},
   "outputs": [],
   "source": [
    "# Die neu erstellte Ansicht speichern wir in folgender Variable:\n",
    "checktitelmonth = checkout [[\"checkouts\", \"title\", \"checkoutmonth\"]]"
   ]
  },
  {
   "cell_type": "code",
   "execution_count": 11,
   "metadata": {},
   "outputs": [
    {
     "data": {
      "text/html": [
       "<div>\n",
       "<style scoped>\n",
       "    .dataframe tbody tr th:only-of-type {\n",
       "        vertical-align: middle;\n",
       "    }\n",
       "\n",
       "    .dataframe tbody tr th {\n",
       "        vertical-align: top;\n",
       "    }\n",
       "\n",
       "    .dataframe thead th {\n",
       "        text-align: right;\n",
       "    }\n",
       "</style>\n",
       "<table border=\"1\" class=\"dataframe\">\n",
       "  <thead>\n",
       "    <tr style=\"text-align: right;\">\n",
       "      <th></th>\n",
       "      <th>checkouts</th>\n",
       "      <th>title</th>\n",
       "      <th>checkoutmonth</th>\n",
       "    </tr>\n",
       "  </thead>\n",
       "  <tbody>\n",
       "    <tr>\n",
       "      <th>594530</th>\n",
       "      <td>2073</td>\n",
       "      <td>FlexTech--Laptops.</td>\n",
       "      <td>10</td>\n",
       "    </tr>\n",
       "  </tbody>\n",
       "</table>\n",
       "</div>"
      ],
      "text/plain": [
       "        checkouts               title  checkoutmonth\n",
       "594530       2073  FlexTech--Laptops.             10"
      ]
     },
     "execution_count": 11,
     "metadata": {},
     "output_type": "execute_result"
    }
   ],
   "source": [
    "# Jetzt fragen wir die Tabelle nach der Wert von \"maxch\" ab:\n",
    "checktitelmonth[checktitelmonth[\"checkouts\"] >= maxch]"
   ]
  },
  {
   "cell_type": "code",
   "execution_count": 12,
   "metadata": {},
   "outputs": [
    {
     "data": {
      "text/html": [
       "<div>\n",
       "<style scoped>\n",
       "    .dataframe tbody tr th:only-of-type {\n",
       "        vertical-align: middle;\n",
       "    }\n",
       "\n",
       "    .dataframe tbody tr th {\n",
       "        vertical-align: top;\n",
       "    }\n",
       "\n",
       "    .dataframe thead th {\n",
       "        text-align: right;\n",
       "    }\n",
       "</style>\n",
       "<table border=\"1\" class=\"dataframe\">\n",
       "  <thead>\n",
       "    <tr style=\"text-align: right;\">\n",
       "      <th></th>\n",
       "      <th>checkouts</th>\n",
       "      <th>title</th>\n",
       "      <th>checkoutmonth</th>\n",
       "    </tr>\n",
       "  </thead>\n",
       "  <tbody>\n",
       "    <tr>\n",
       "      <th>594530</th>\n",
       "      <td>2073</td>\n",
       "      <td>FlexTech--Laptops.</td>\n",
       "      <td>10</td>\n",
       "    </tr>\n",
       "  </tbody>\n",
       "</table>\n",
       "</div>"
      ],
      "text/plain": [
       "        checkouts               title  checkoutmonth\n",
       "594530       2073  FlexTech--Laptops.             10"
      ]
     },
     "execution_count": 12,
     "metadata": {},
     "output_type": "execute_result"
    }
   ],
   "source": [
    "# Jetzt definieren wir noch das Ergebniss als Loesung1:\n",
    "Loesung1 = checktitelmonth[checktitelmonth[\"checkouts\"] >= maxch]\n",
    "Loesung1"
   ]
  },
  {
   "cell_type": "markdown",
   "metadata": {},
   "source": [
    "## Frage 2: Wie ist das Verhältniss von digitalen zu analogen Medien? "
   ]
  },
  {
   "cell_type": "code",
   "execution_count": 13,
   "metadata": {},
   "outputs": [
    {
     "data": {
      "text/html": [
       "<div>\n",
       "<style scoped>\n",
       "    .dataframe tbody tr th:only-of-type {\n",
       "        vertical-align: middle;\n",
       "    }\n",
       "\n",
       "    .dataframe tbody tr th {\n",
       "        vertical-align: top;\n",
       "    }\n",
       "\n",
       "    .dataframe thead th {\n",
       "        text-align: right;\n",
       "    }\n",
       "</style>\n",
       "<table border=\"1\" class=\"dataframe\">\n",
       "  <thead>\n",
       "    <tr style=\"text-align: right;\">\n",
       "      <th></th>\n",
       "      <th>usageclass</th>\n",
       "    </tr>\n",
       "  </thead>\n",
       "  <tbody>\n",
       "    <tr>\n",
       "      <th>0</th>\n",
       "      <td>Physical</td>\n",
       "    </tr>\n",
       "    <tr>\n",
       "      <th>1</th>\n",
       "      <td>Physical</td>\n",
       "    </tr>\n",
       "    <tr>\n",
       "      <th>2</th>\n",
       "      <td>Physical</td>\n",
       "    </tr>\n",
       "    <tr>\n",
       "      <th>3</th>\n",
       "      <td>Digital</td>\n",
       "    </tr>\n",
       "    <tr>\n",
       "      <th>4</th>\n",
       "      <td>Physical</td>\n",
       "    </tr>\n",
       "    <tr>\n",
       "      <th>...</th>\n",
       "      <td>...</td>\n",
       "    </tr>\n",
       "    <tr>\n",
       "      <th>2665093</th>\n",
       "      <td>Digital</td>\n",
       "    </tr>\n",
       "    <tr>\n",
       "      <th>2665094</th>\n",
       "      <td>Physical</td>\n",
       "    </tr>\n",
       "    <tr>\n",
       "      <th>2665095</th>\n",
       "      <td>Physical</td>\n",
       "    </tr>\n",
       "    <tr>\n",
       "      <th>2665096</th>\n",
       "      <td>Physical</td>\n",
       "    </tr>\n",
       "    <tr>\n",
       "      <th>2665097</th>\n",
       "      <td>Physical</td>\n",
       "    </tr>\n",
       "  </tbody>\n",
       "</table>\n",
       "<p>2665098 rows × 1 columns</p>\n",
       "</div>"
      ],
      "text/plain": [
       "        usageclass\n",
       "0         Physical\n",
       "1         Physical\n",
       "2         Physical\n",
       "3          Digital\n",
       "4         Physical\n",
       "...            ...\n",
       "2665093    Digital\n",
       "2665094   Physical\n",
       "2665095   Physical\n",
       "2665096   Physical\n",
       "2665097   Physical\n",
       "\n",
       "[2665098 rows x 1 columns]"
      ]
     },
     "execution_count": 13,
     "metadata": {},
     "output_type": "execute_result"
    }
   ],
   "source": [
    "# Für die Beantwortung der Frage brauchen wir nur die Spalte \"usageclass\"\n",
    "checkout [[\"usageclass\"]]"
   ]
  },
  {
   "cell_type": "code",
   "execution_count": 14,
   "metadata": {},
   "outputs": [],
   "source": [
    "# Aus der Spalte Zählen wir die Anzahl an \"Physical\" und \"Digital\"\n",
    "Physical = checkout[checkout['usageclass'] == 'Physical'].count()[0]\n",
    "Digital = checkout[checkout['usageclass'] == 'Digital'].count()[0]\n"
   ]
  },
  {
   "cell_type": "code",
   "execution_count": 15,
   "metadata": {},
   "outputs": [
    {
     "data": {
      "image/png": "[encoded data removed]",
      "text/plain": [
       "<Figure size 432x288 with 1 Axes>"
      ]
     },
     "metadata": {},
     "output_type": "display_data"
    }
   ],
   "source": [
    "# Diese Werte können wir uns anschaulich in einem Kuchen-Diagramm anzeigen lassen:\n",
    "labels = ['Physical', 'Digital',]\n",
    "plt.pie([Physical, Digital], labels = labels, autopct='%.2f')\n",
    "plt.show()"
   ]
  },
  {
   "cell_type": "markdown",
   "metadata": {},
   "source": [
    "## Frage 3: Wie viele Medien haben nur eine Ausleihe?"
   ]
  },
  {
   "cell_type": "code",
   "execution_count": 16,
   "metadata": {},
   "outputs": [
    {
     "data": {
      "text/html": [
       "<div>\n",
       "<style scoped>\n",
       "    .dataframe tbody tr th:only-of-type {\n",
       "        vertical-align: middle;\n",
       "    }\n",
       "\n",
       "    .dataframe tbody tr th {\n",
       "        vertical-align: top;\n",
       "    }\n",
       "\n",
       "    .dataframe thead th {\n",
       "        text-align: right;\n",
       "    }\n",
       "</style>\n",
       "<table border=\"1\" class=\"dataframe\">\n",
       "  <thead>\n",
       "    <tr style=\"text-align: right;\">\n",
       "      <th></th>\n",
       "      <th>checkouts</th>\n",
       "    </tr>\n",
       "  </thead>\n",
       "  <tbody>\n",
       "    <tr>\n",
       "      <th>0</th>\n",
       "      <td>1</td>\n",
       "    </tr>\n",
       "    <tr>\n",
       "      <th>1</th>\n",
       "      <td>2</td>\n",
       "    </tr>\n",
       "    <tr>\n",
       "      <th>2</th>\n",
       "      <td>7</td>\n",
       "    </tr>\n",
       "    <tr>\n",
       "      <th>3</th>\n",
       "      <td>3</td>\n",
       "    </tr>\n",
       "    <tr>\n",
       "      <th>4</th>\n",
       "      <td>1</td>\n",
       "    </tr>\n",
       "    <tr>\n",
       "      <th>...</th>\n",
       "      <td>...</td>\n",
       "    </tr>\n",
       "    <tr>\n",
       "      <th>2665093</th>\n",
       "      <td>1</td>\n",
       "    </tr>\n",
       "    <tr>\n",
       "      <th>2665094</th>\n",
       "      <td>4</td>\n",
       "    </tr>\n",
       "    <tr>\n",
       "      <th>2665095</th>\n",
       "      <td>2</td>\n",
       "    </tr>\n",
       "    <tr>\n",
       "      <th>2665096</th>\n",
       "      <td>1</td>\n",
       "    </tr>\n",
       "    <tr>\n",
       "      <th>2665097</th>\n",
       "      <td>1</td>\n",
       "    </tr>\n",
       "  </tbody>\n",
       "</table>\n",
       "<p>2665098 rows × 1 columns</p>\n",
       "</div>"
      ],
      "text/plain": [
       "         checkouts\n",
       "0                1\n",
       "1                2\n",
       "2                7\n",
       "3                3\n",
       "4                1\n",
       "...            ...\n",
       "2665093          1\n",
       "2665094          4\n",
       "2665095          2\n",
       "2665096          1\n",
       "2665097          1\n",
       "\n",
       "[2665098 rows x 1 columns]"
      ]
     },
     "execution_count": 16,
     "metadata": {},
     "output_type": "execute_result"
    }
   ],
   "source": [
    "# Zunächst verkleiner wir wieder die Ansicht auf den Bereich \"checkouts\", da der Rest für diese Frage nicht relevant ist:\n",
    "co1 = checkout [[\"checkouts\"]]\n",
    "co1"
   ]
  },
  {
   "cell_type": "code",
   "execution_count": 17,
   "metadata": {},
   "outputs": [
    {
     "data": {
      "text/plain": [
       "1"
      ]
     },
     "execution_count": 17,
     "metadata": {},
     "output_type": "execute_result"
    }
   ],
   "source": [
    "# Zur Überprüfung lassen wir uns den niedrigsten Wert anzeigen:\n",
    "checkout.checkouts.min()"
   ]
  },
  {
   "cell_type": "code",
   "execution_count": 18,
   "metadata": {},
   "outputs": [],
   "source": [
    "# Diesen Wert speichern wir in die Variable \"minch\"\n",
    "minch = checkout.checkouts.min()"
   ]
  },
  {
   "cell_type": "code",
   "execution_count": 19,
   "metadata": {},
   "outputs": [
    {
     "data": {
      "text/html": [
       "<div>\n",
       "<style scoped>\n",
       "    .dataframe tbody tr th:only-of-type {\n",
       "        vertical-align: middle;\n",
       "    }\n",
       "\n",
       "    .dataframe tbody tr th {\n",
       "        vertical-align: top;\n",
       "    }\n",
       "\n",
       "    .dataframe thead th {\n",
       "        text-align: right;\n",
       "    }\n",
       "</style>\n",
       "<table border=\"1\" class=\"dataframe\">\n",
       "  <thead>\n",
       "    <tr style=\"text-align: right;\">\n",
       "      <th></th>\n",
       "      <th>checkouts</th>\n",
       "    </tr>\n",
       "  </thead>\n",
       "  <tbody>\n",
       "    <tr>\n",
       "      <th>0</th>\n",
       "      <td>1</td>\n",
       "    </tr>\n",
       "    <tr>\n",
       "      <th>4</th>\n",
       "      <td>1</td>\n",
       "    </tr>\n",
       "    <tr>\n",
       "      <th>5</th>\n",
       "      <td>1</td>\n",
       "    </tr>\n",
       "    <tr>\n",
       "      <th>11</th>\n",
       "      <td>1</td>\n",
       "    </tr>\n",
       "    <tr>\n",
       "      <th>13</th>\n",
       "      <td>1</td>\n",
       "    </tr>\n",
       "    <tr>\n",
       "      <th>...</th>\n",
       "      <td>...</td>\n",
       "    </tr>\n",
       "    <tr>\n",
       "      <th>2665089</th>\n",
       "      <td>1</td>\n",
       "    </tr>\n",
       "    <tr>\n",
       "      <th>2665091</th>\n",
       "      <td>1</td>\n",
       "    </tr>\n",
       "    <tr>\n",
       "      <th>2665093</th>\n",
       "      <td>1</td>\n",
       "    </tr>\n",
       "    <tr>\n",
       "      <th>2665096</th>\n",
       "      <td>1</td>\n",
       "    </tr>\n",
       "    <tr>\n",
       "      <th>2665097</th>\n",
       "      <td>1</td>\n",
       "    </tr>\n",
       "  </tbody>\n",
       "</table>\n",
       "<p>1282319 rows × 1 columns</p>\n",
       "</div>"
      ],
      "text/plain": [
       "         checkouts\n",
       "0                1\n",
       "4                1\n",
       "5                1\n",
       "11               1\n",
       "13               1\n",
       "...            ...\n",
       "2665089          1\n",
       "2665091          1\n",
       "2665093          1\n",
       "2665096          1\n",
       "2665097          1\n",
       "\n",
       "[1282319 rows x 1 columns]"
      ]
     },
     "execution_count": 19,
     "metadata": {},
     "output_type": "execute_result"
    }
   ],
   "source": [
    "# Hier fragen wir die Ansicht \"co1\" nach der Variable \"minch\" ab und speichern das Ergebniss in der neuen Variable \"only2checkout\"\n",
    "only1checkout = co1[co1[\"checkouts\"] <= minch]\n",
    "only1checkout"
   ]
  },
  {
   "cell_type": "code",
   "execution_count": 20,
   "metadata": {},
   "outputs": [],
   "source": [
    "# Um jetzt die Anzahl von minch bekommen fragen wir mit shape die größe des Ergebniss ab,\n",
    "# da an dieser Stelle bereits alle Ausleihe über 1 herausgefilter wurden\n",
    "Loesung3 = only1checkout.shape"
   ]
  },
  {
   "cell_type": "code",
   "execution_count": 22,
   "metadata": {},
   "outputs": [
    {
     "data": {
      "text/plain": [
       "(1282319, 1)"
      ]
     },
     "execution_count": 22,
     "metadata": {},
     "output_type": "execute_result"
    }
   ],
   "source": [
    "# # Jetzt definieren wir noch das Ergebniss als Loesung3:\n",
    "Loesung3"
   ]
  },
  {
   "cell_type": "code",
   "execution_count": null,
   "metadata": {},
   "outputs": [],
   "source": []
  }
 ],
 "metadata": {
  "kernelspec": {
   "display_name": "Python 3",
   "language": "python",
   "name": "python3"
  },
  "language_info": {
   "codemirror_mode": {
    "name": "ipython",
    "version": 3
   },
   "file_extension": ".py",
   "mimetype": "text/x-python",
   "name": "python",
   "nbconvert_exporter": "python",
   "pygments_lexer": "ipython3",
   "version": "3.7.6"
  }
 },
 "nbformat": 4,
 "nbformat_minor": 4
}
